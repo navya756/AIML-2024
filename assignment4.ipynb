{
  "nbformat": 4,
  "nbformat_minor": 0,
  "metadata": {
    "colab": {
      "provenance": []
    },
    "kernelspec": {
      "name": "python3",
      "display_name": "Python 3"
    },
    "language_info": {
      "name": "python"
    }
  },
  "cells": [
    {
      "cell_type": "code",
      "execution_count": 1,
      "metadata": {
        "colab": {
          "base_uri": "https://localhost:8080/"
        },
        "id": "eVtMlv6D1GCA",
        "outputId": "20971b9f-55da-432e-c358-8a1f22c376c7"
      },
      "outputs": [
        {
          "output_type": "stream",
          "name": "stdout",
          "text": [
            "The optimal value at the root node is: 4\n"
          ]
        }
      ],
      "source": [
        "def minmax(depth, nodeIndex, maximizingPlayer, values):\n",
        "    if depth == 3:\n",
        "        return values[nodeIndex]\n",
        "\n",
        "    if maximizingPlayer:\n",
        "        return max(minmax(depth + 1, nodeIndex * 2, False, values),\n",
        "                   minmax(depth + 1, nodeIndex * 2 + 1, False, values))\n",
        "    else:\n",
        "        return min(minmax(depth + 1, nodeIndex * 2, True, values),\n",
        "                   minmax(depth + 1, nodeIndex * 2 + 1, True, values))\n",
        "\n",
        "values = [-1, 4, 2, 6, -3, -5, 0, 7]\n",
        "print(\"The optimal value at the root node is:\", minmax(0, 0, True, values))"
      ]
    },
    {
      "cell_type": "code",
      "source": [
        "def alpha_beta_pruning(node, depth, alpha, beta, maximizingPlayer):\n",
        "    if depth == 0 or node in ['H', 'I', 'J', 'K', 'L', 'M', 'N', 'O']:\n",
        "        terminal_values = {'H': -1, 'I': 4, 'J': 2, 'K': 6,\n",
        "                           'L': -3, 'M': -5 , 'N': 0 , 'O': 7}\n",
        "        return terminal_values[node]\n",
        "\n",
        "    if maximizingPlayer:\n",
        "        maxEval = float('-inf')\n",
        "        for child in tree[node]:\n",
        "            eval = alpha_beta_pruning(child, depth - 1, alpha, beta, False)\n",
        "            maxEval = max(maxEval, eval)\n",
        "            alpha = max(alpha, eval)\n",
        "            if beta <= alpha:\n",
        "                break\n",
        "        return maxEval\n",
        "\n",
        "    else:\n",
        "        minEval = float('inf')\n",
        "        for child in tree[node]:\n",
        "            eval = alpha_beta_pruning(child, depth - 1,alpha,beta,True)\n",
        "            minEval = min(minEval ,eval)\n",
        "            beta= min(beta ,eval)\n",
        "            if beta <=alpha :\n",
        "                break\n",
        "        return minEval\n",
        "\n",
        "tree ={\n",
        "    \"A\":[\"B\",\"C\"],\n",
        "    \"B\":[\"D\",\"E\"],\n",
        "    \"C\":[\"F\",\"G\"],\n",
        "    \"D\":[\"H\",\"I\"],\n",
        "    \"E\":[\"J\",\"K\"],\n",
        "    \"F\":[\"L\",\"M\"],\n",
        "    \"G\":[\"N\",\"O\"]\n",
        "}\n",
        "\n",
        "result=alpha_beta_pruning(\"A\",3,float('-inf'),float('inf'),True )\n",
        "print(f\"The optimal value is : {result}\")"
      ],
      "metadata": {
        "colab": {
          "base_uri": "https://localhost:8080/"
        },
        "id": "AqmBsRH79BM0",
        "outputId": "129f235d-9908-49d5-e494-5108095e7e53"
      },
      "execution_count": 2,
      "outputs": [
        {
          "output_type": "stream",
          "name": "stdout",
          "text": [
            "The optimal value is : 4\n"
          ]
        }
      ]
    }
  ]
}